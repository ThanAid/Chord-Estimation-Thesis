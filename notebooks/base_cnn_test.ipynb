{
 "cells": [
  {
   "cell_type": "markdown",
   "metadata": {},
   "source": [
    "# Imports"
   ]
  },
  {
   "cell_type": "code",
   "execution_count": 1,
   "metadata": {
    "tags": []
   },
   "outputs": [],
   "source": [
    "import pandas as pd\n",
    "import scipy\n",
    "import librosa\n",
    "import librosa.display\n",
    "\n",
    "import sys  \n",
    "sys.path.append(\"../src\")"
   ]
  },
  {
   "cell_type": "code",
   "execution_count": 2,
   "metadata": {
    "tags": []
   },
   "outputs": [
    {
     "data": {
      "text/html": [
       "<div>\n",
       "<style scoped>\n",
       "    .dataframe tbody tr th:only-of-type {\n",
       "        vertical-align: middle;\n",
       "    }\n",
       "\n",
       "    .dataframe tbody tr th {\n",
       "        vertical-align: top;\n",
       "    }\n",
       "\n",
       "    .dataframe thead th {\n",
       "        text-align: right;\n",
       "    }\n",
       "</style>\n",
       "<table border=\"1\" class=\"dataframe\">\n",
       "  <thead>\n",
       "    <tr style=\"text-align: right;\">\n",
       "      <th></th>\n",
       "      <th>wav</th>\n",
       "      <th>labels</th>\n",
       "    </tr>\n",
       "  </thead>\n",
       "  <tbody>\n",
       "    <tr>\n",
       "      <th>0</th>\n",
       "      <td>/home/thanos/Documents/Thesis/audio/TheBeatles...</td>\n",
       "      <td>/home/thanos/Documents/Thesis/labels/TheBeatle...</td>\n",
       "    </tr>\n",
       "    <tr>\n",
       "      <th>1</th>\n",
       "      <td>/home/thanos/Documents/Thesis/audio/TheBeatles...</td>\n",
       "      <td>/home/thanos/Documents/Thesis/labels/TheBeatle...</td>\n",
       "    </tr>\n",
       "    <tr>\n",
       "      <th>2</th>\n",
       "      <td>/home/thanos/Documents/Thesis/audio/TheBeatles...</td>\n",
       "      <td>/home/thanos/Documents/Thesis/labels/TheBeatle...</td>\n",
       "    </tr>\n",
       "    <tr>\n",
       "      <th>3</th>\n",
       "      <td>/home/thanos/Documents/Thesis/audio/TheBeatles...</td>\n",
       "      <td>/home/thanos/Documents/Thesis/labels/TheBeatle...</td>\n",
       "    </tr>\n",
       "    <tr>\n",
       "      <th>4</th>\n",
       "      <td>/home/thanos/Documents/Thesis/audio/TheBeatles...</td>\n",
       "      <td>/home/thanos/Documents/Thesis/labels/TheBeatle...</td>\n",
       "    </tr>\n",
       "    <tr>\n",
       "      <th>...</th>\n",
       "      <td>...</td>\n",
       "      <td>...</td>\n",
       "    </tr>\n",
       "    <tr>\n",
       "      <th>1920</th>\n",
       "      <td>/home/thanos/Documents/Thesis/audio/TheBeatles...</td>\n",
       "      <td>/home/thanos/Documents/Thesis/labels/TheBeatle...</td>\n",
       "    </tr>\n",
       "    <tr>\n",
       "      <th>1921</th>\n",
       "      <td>/home/thanos/Documents/Thesis/audio/TheBeatles...</td>\n",
       "      <td>/home/thanos/Documents/Thesis/labels/TheBeatle...</td>\n",
       "    </tr>\n",
       "    <tr>\n",
       "      <th>1922</th>\n",
       "      <td>/home/thanos/Documents/Thesis/audio/TheBeatles...</td>\n",
       "      <td>/home/thanos/Documents/Thesis/labels/TheBeatle...</td>\n",
       "    </tr>\n",
       "    <tr>\n",
       "      <th>1923</th>\n",
       "      <td>/home/thanos/Documents/Thesis/audio/TheBeatles...</td>\n",
       "      <td>/home/thanos/Documents/Thesis/labels/TheBeatle...</td>\n",
       "    </tr>\n",
       "    <tr>\n",
       "      <th>1924</th>\n",
       "      <td>/home/thanos/Documents/Thesis/audio/TheBeatles...</td>\n",
       "      <td>/home/thanos/Documents/Thesis/labels/TheBeatle...</td>\n",
       "    </tr>\n",
       "  </tbody>\n",
       "</table>\n",
       "<p>1925 rows × 2 columns</p>\n",
       "</div>"
      ],
      "text/plain": [
       "                                                    wav  \\\n",
       "0     /home/thanos/Documents/Thesis/audio/TheBeatles...   \n",
       "1     /home/thanos/Documents/Thesis/audio/TheBeatles...   \n",
       "2     /home/thanos/Documents/Thesis/audio/TheBeatles...   \n",
       "3     /home/thanos/Documents/Thesis/audio/TheBeatles...   \n",
       "4     /home/thanos/Documents/Thesis/audio/TheBeatles...   \n",
       "...                                                 ...   \n",
       "1920  /home/thanos/Documents/Thesis/audio/TheBeatles...   \n",
       "1921  /home/thanos/Documents/Thesis/audio/TheBeatles...   \n",
       "1922  /home/thanos/Documents/Thesis/audio/TheBeatles...   \n",
       "1923  /home/thanos/Documents/Thesis/audio/TheBeatles...   \n",
       "1924  /home/thanos/Documents/Thesis/audio/TheBeatles...   \n",
       "\n",
       "                                                 labels  \n",
       "0     /home/thanos/Documents/Thesis/labels/TheBeatle...  \n",
       "1     /home/thanos/Documents/Thesis/labels/TheBeatle...  \n",
       "2     /home/thanos/Documents/Thesis/labels/TheBeatle...  \n",
       "3     /home/thanos/Documents/Thesis/labels/TheBeatle...  \n",
       "4     /home/thanos/Documents/Thesis/labels/TheBeatle...  \n",
       "...                                                 ...  \n",
       "1920  /home/thanos/Documents/Thesis/labels/TheBeatle...  \n",
       "1921  /home/thanos/Documents/Thesis/labels/TheBeatle...  \n",
       "1922  /home/thanos/Documents/Thesis/labels/TheBeatle...  \n",
       "1923  /home/thanos/Documents/Thesis/labels/TheBeatle...  \n",
       "1924  /home/thanos/Documents/Thesis/labels/TheBeatle...  \n",
       "\n",
       "[1925 rows x 2 columns]"
      ]
     },
     "execution_count": 2,
     "metadata": {},
     "output_type": "execute_result"
    }
   ],
   "source": [
    "dataset_paths = '/home/thanos/Documents/Thesis/dataset_paths_transformed.txt'\n",
    "\n",
    "paths_df = pd.read_csv(dataset_paths, delimiter=' ', index_col=False, names=['wav', 'labels'], header=None)\n",
    "paths_df"
   ]
  },
  {
   "cell_type": "markdown",
   "metadata": {},
   "source": [
    "## fourier wav"
   ]
  },
  {
   "cell_type": "code",
   "execution_count": 5,
   "metadata": {},
   "outputs": [
    {
     "ename": "NameError",
     "evalue": "name 'audio_file' is not defined",
     "output_type": "error",
     "traceback": [
      "\u001b[0;31m---------------------------------------------------------------------------\u001b[0m",
      "\u001b[0;31mNameError\u001b[0m                                 Traceback (most recent call last)",
      "\u001b[1;32m/home/thanos/Documents/Thesis/Chord-Estimation-Thesis/notebooks/base_cnn_test.ipynb Cell 5\u001b[0m line \u001b[0;36m3\n\u001b[1;32m      <a href='vscode-notebook-cell:/home/thanos/Documents/Thesis/Chord-Estimation-Thesis/notebooks/base_cnn_test.ipynb#W4sZmlsZQ%3D%3D?line=0'>1</a>\u001b[0m Fs \u001b[39m=\u001b[39m \u001b[39m44100\u001b[39m\n\u001b[0;32m----> <a href='vscode-notebook-cell:/home/thanos/Documents/Thesis/Chord-Estimation-Thesis/notebooks/base_cnn_test.ipynb#W4sZmlsZQ%3D%3D?line=2'>3</a>\u001b[0m y, sr \u001b[39m=\u001b[39m librosa\u001b[39m.\u001b[39mload(audio_file, sr\u001b[39m=\u001b[39mFs, mono\u001b[39m=\u001b[39m\u001b[39mTrue\u001b[39;00m)\n\u001b[1;32m      <a href='vscode-notebook-cell:/home/thanos/Documents/Thesis/Chord-Estimation-Thesis/notebooks/base_cnn_test.ipynb#W4sZmlsZQ%3D%3D?line=3'>4</a>\u001b[0m f, t, Zxx \u001b[39m=\u001b[39m scipy\u001b[39m.\u001b[39msignal\u001b[39m.\u001b[39mstft(y, fs\u001b[39m=\u001b[39mFs, return_onesided\u001b[39m=\u001b[39m\u001b[39mTrue\u001b[39;00m)\n",
      "\u001b[0;31mNameError\u001b[0m: name 'audio_file' is not defined"
     ]
    }
   ],
   "source": [
    "# Fs = 44100\n",
    "\n",
    "# y, sr = librosa.load(audio_file, sr=Fs, mono=True)\n",
    "# f, t, Zxx = scipy.signal.stft(y, fs=Fs, return_onesided=True)"
   ]
  },
  {
   "cell_type": "code",
   "execution_count": null,
   "metadata": {},
   "outputs": [
    {
     "data": {
      "text/plain": [
       "81577"
      ]
     },
     "execution_count": 5,
     "metadata": {},
     "output_type": "execute_result"
    }
   ],
   "source": [
    "# Zxx.shape[1]"
   ]
  },
  {
   "cell_type": "code",
   "execution_count": 3,
   "metadata": {},
   "outputs": [
    {
     "name": "stdout",
     "output_type": "stream",
     "text": [
      "/home/thanos/Documents/Thesis/audio/TheBeatlesShifted_Noise/shifted_-1/09_-_Magical_Mystery_Tour/02_-_The_Fool_On_The_Hill.wav\n",
      "180.24489795918367\n"
     ]
    }
   ],
   "source": [
    "# import utils.audio_utils as au\n",
    "\n",
    "# audio_file = paths_df['wav'].iloc[1]\n",
    "# print(audio_file)\n",
    "# y, sr = au.load_wav(audio_file, sampling_rate=44100)\n",
    "# duration = librosa.get_duration(y=y, sr=sr)\n",
    "# print(duration)\n",
    "\n",
    "# stft = au.stf_transform(y, hop_size=4410, win_size=8192)"
   ]
  },
  {
   "cell_type": "code",
   "execution_count": 4,
   "metadata": {},
   "outputs": [
    {
     "data": {
      "text/plain": [
       "(4097, 1803)"
      ]
     },
     "execution_count": 4,
     "metadata": {},
     "output_type": "execute_result"
    }
   ],
   "source": [
    "# stft.shape"
   ]
  },
  {
   "cell_type": "markdown",
   "metadata": {},
   "source": [
    "## fourier (from time to frames) labels"
   ]
  },
  {
   "cell_type": "code",
   "execution_count": 3,
   "metadata": {
    "tags": []
   },
   "outputs": [
    {
     "data": {
      "text/plain": [
       "'/home/thanos/Documents/Thesis/labels/TheBeatles_shifted/shifted_-1/09_-_Magical_Mystery_Tour/02_-_The_Fool_On_The_Hill_TRNS.csv'"
      ]
     },
     "execution_count": 3,
     "metadata": {},
     "output_type": "execute_result"
    }
   ],
   "source": [
    "label_path = paths_df['labels'].iloc[1]\n",
    "label_path"
   ]
  },
  {
   "cell_type": "code",
   "execution_count": 5,
   "metadata": {},
   "outputs": [
    {
     "ename": "KeyError",
     "evalue": "116",
     "output_type": "error",
     "traceback": [
      "\u001b[0;31m---------------------------------------------------------------------------\u001b[0m",
      "\u001b[0;31mValueError\u001b[0m                                Traceback (most recent call last)",
      "File \u001b[0;32m~/anaconda3/envs/chord_env/lib/python3.10/site-packages/pandas/core/indexes/range.py:414\u001b[0m, in \u001b[0;36mRangeIndex.get_loc\u001b[0;34m(self, key)\u001b[0m\n\u001b[1;32m    413\u001b[0m \u001b[39mtry\u001b[39;00m:\n\u001b[0;32m--> 414\u001b[0m     \u001b[39mreturn\u001b[39;00m \u001b[39mself\u001b[39;49m\u001b[39m.\u001b[39;49m_range\u001b[39m.\u001b[39;49mindex(new_key)\n\u001b[1;32m    415\u001b[0m \u001b[39mexcept\u001b[39;00m \u001b[39mValueError\u001b[39;00m \u001b[39mas\u001b[39;00m err:\n",
      "\u001b[0;31mValueError\u001b[0m: 116 is not in range",
      "\nThe above exception was the direct cause of the following exception:\n",
      "\u001b[0;31mKeyError\u001b[0m                                  Traceback (most recent call last)",
      "\u001b[1;32m/home/thanos/Documents/Thesis/Chord-Estimation-Thesis/notebooks/base_cnn_test.ipynb Cell 10\u001b[0m line \u001b[0;36m6\n\u001b[1;32m      <a href='vscode-notebook-cell:/home/thanos/Documents/Thesis/Chord-Estimation-Thesis/notebooks/base_cnn_test.ipynb#X12sZmlsZQ%3D%3D?line=2'>3</a>\u001b[0m label_path \u001b[39m=\u001b[39m paths_df[\u001b[39m'\u001b[39m\u001b[39mlabels\u001b[39m\u001b[39m'\u001b[39m]\u001b[39m.\u001b[39miloc[\u001b[39m1\u001b[39m]\n\u001b[1;32m      <a href='vscode-notebook-cell:/home/thanos/Documents/Thesis/Chord-Estimation-Thesis/notebooks/base_cnn_test.ipynb#X12sZmlsZQ%3D%3D?line=3'>4</a>\u001b[0m label \u001b[39m=\u001b[39m pd\u001b[39m.\u001b[39mread_csv(label_path, delimiter\u001b[39m=\u001b[39m\u001b[39m'\u001b[39m\u001b[39m \u001b[39m\u001b[39m'\u001b[39m, names\u001b[39m=\u001b[39m[\u001b[39m'\u001b[39m\u001b[39mstart\u001b[39m\u001b[39m'\u001b[39m, \u001b[39m'\u001b[39m\u001b[39mend\u001b[39m\u001b[39m'\u001b[39m, \u001b[39m'\u001b[39m\u001b[39mchord\u001b[39m\u001b[39m'\u001b[39m])\n\u001b[0;32m----> <a href='vscode-notebook-cell:/home/thanos/Documents/Thesis/Chord-Estimation-Thesis/notebooks/base_cnn_test.ipynb#X12sZmlsZQ%3D%3D?line=5'>6</a>\u001b[0m adapted_labs \u001b[39m=\u001b[39m AdaptLabels(label_path, stft\u001b[39m.\u001b[39;49mshape[\u001b[39m1\u001b[39;49m], duration\u001b[39m=\u001b[39;49mduration)\n",
      "File \u001b[0;32m~/Documents/Thesis/Chord-Estimation-Thesis/notebooks/../src/utils/adapt_labels.py:19\u001b[0m, in \u001b[0;36mAdaptLabels.__init__\u001b[0;34m(self, label_path, n_steps, duration)\u001b[0m\n\u001b[1;32m     17\u001b[0m \u001b[39mself\u001b[39m\u001b[39m.\u001b[39mtimestep \u001b[39m=\u001b[39m \u001b[39mself\u001b[39m\u001b[39m.\u001b[39mget_timestep()\n\u001b[1;32m     18\u001b[0m \u001b[39mself\u001b[39m\u001b[39m.\u001b[39mtimestamps \u001b[39m=\u001b[39m np\u001b[39m.\u001b[39mlinspace(\u001b[39m0\u001b[39m, \u001b[39mself\u001b[39m\u001b[39m.\u001b[39mduration, num\u001b[39m=\u001b[39mn_steps)\n\u001b[0;32m---> 19\u001b[0m \u001b[39mself\u001b[39m\u001b[39m.\u001b[39mlabels \u001b[39m=\u001b[39m \u001b[39mself\u001b[39;49m\u001b[39m.\u001b[39;49madapt_labels()\n",
      "File \u001b[0;32m~/Documents/Thesis/Chord-Estimation-Thesis/notebooks/../src/utils/adapt_labels.py:41\u001b[0m, in \u001b[0;36mAdaptLabels.adapt_labels\u001b[0;34m(self)\u001b[0m\n\u001b[1;32m     39\u001b[0m     \u001b[39melse\u001b[39;00m:\n\u001b[1;32m     40\u001b[0m         i \u001b[39m+\u001b[39m\u001b[39m=\u001b[39m \u001b[39m1\u001b[39m\n\u001b[0;32m---> 41\u001b[0m         labels\u001b[39m.\u001b[39mappend((timestamp, \u001b[39mself\u001b[39;49m\u001b[39m.\u001b[39;49mtime_labels[\u001b[39m\"\u001b[39;49m\u001b[39mchord\u001b[39;49m\u001b[39m\"\u001b[39;49m][i]))\n\u001b[1;32m     43\u001b[0m \u001b[39mreturn\u001b[39;00m labels\n",
      "File \u001b[0;32m~/anaconda3/envs/chord_env/lib/python3.10/site-packages/pandas/core/series.py:1040\u001b[0m, in \u001b[0;36mSeries.__getitem__\u001b[0;34m(self, key)\u001b[0m\n\u001b[1;32m   1037\u001b[0m     \u001b[39mreturn\u001b[39;00m \u001b[39mself\u001b[39m\u001b[39m.\u001b[39m_values[key]\n\u001b[1;32m   1039\u001b[0m \u001b[39melif\u001b[39;00m key_is_scalar:\n\u001b[0;32m-> 1040\u001b[0m     \u001b[39mreturn\u001b[39;00m \u001b[39mself\u001b[39;49m\u001b[39m.\u001b[39;49m_get_value(key)\n\u001b[1;32m   1042\u001b[0m \u001b[39m# Convert generator to list before going through hashable part\u001b[39;00m\n\u001b[1;32m   1043\u001b[0m \u001b[39m# (We will iterate through the generator there to check for slices)\u001b[39;00m\n\u001b[1;32m   1044\u001b[0m \u001b[39mif\u001b[39;00m is_iterator(key):\n",
      "File \u001b[0;32m~/anaconda3/envs/chord_env/lib/python3.10/site-packages/pandas/core/series.py:1156\u001b[0m, in \u001b[0;36mSeries._get_value\u001b[0;34m(self, label, takeable)\u001b[0m\n\u001b[1;32m   1153\u001b[0m     \u001b[39mreturn\u001b[39;00m \u001b[39mself\u001b[39m\u001b[39m.\u001b[39m_values[label]\n\u001b[1;32m   1155\u001b[0m \u001b[39m# Similar to Index.get_value, but we do not fall back to positional\u001b[39;00m\n\u001b[0;32m-> 1156\u001b[0m loc \u001b[39m=\u001b[39m \u001b[39mself\u001b[39;49m\u001b[39m.\u001b[39;49mindex\u001b[39m.\u001b[39;49mget_loc(label)\n\u001b[1;32m   1158\u001b[0m \u001b[39mif\u001b[39;00m is_integer(loc):\n\u001b[1;32m   1159\u001b[0m     \u001b[39mreturn\u001b[39;00m \u001b[39mself\u001b[39m\u001b[39m.\u001b[39m_values[loc]\n",
      "File \u001b[0;32m~/anaconda3/envs/chord_env/lib/python3.10/site-packages/pandas/core/indexes/range.py:416\u001b[0m, in \u001b[0;36mRangeIndex.get_loc\u001b[0;34m(self, key)\u001b[0m\n\u001b[1;32m    414\u001b[0m         \u001b[39mreturn\u001b[39;00m \u001b[39mself\u001b[39m\u001b[39m.\u001b[39m_range\u001b[39m.\u001b[39mindex(new_key)\n\u001b[1;32m    415\u001b[0m     \u001b[39mexcept\u001b[39;00m \u001b[39mValueError\u001b[39;00m \u001b[39mas\u001b[39;00m err:\n\u001b[0;32m--> 416\u001b[0m         \u001b[39mraise\u001b[39;00m \u001b[39mKeyError\u001b[39;00m(key) \u001b[39mfrom\u001b[39;00m \u001b[39merr\u001b[39;00m\n\u001b[1;32m    417\u001b[0m \u001b[39mif\u001b[39;00m \u001b[39misinstance\u001b[39m(key, Hashable):\n\u001b[1;32m    418\u001b[0m     \u001b[39mraise\u001b[39;00m \u001b[39mKeyError\u001b[39;00m(key)\n",
      "\u001b[0;31mKeyError\u001b[0m: 116"
     ]
    }
   ],
   "source": [
    "# from utils.adapt_labels import AdaptLabels\n",
    "\n",
    "# label_path = paths_df['labels'].iloc[1]\n",
    "# label = pd.read_csv(label_path, delimiter=' ', names=['start', 'end', 'chord'])\n",
    "\n",
    "# adapted_labs = AdaptLabels(label_path, stft.shape[1], duration=duration)\n"
   ]
  },
  {
   "cell_type": "code",
   "execution_count": 22,
   "metadata": {},
   "outputs": [
    {
     "data": {
      "text/plain": [
       "1803"
      ]
     },
     "execution_count": 22,
     "metadata": {},
     "output_type": "execute_result"
    }
   ],
   "source": [
    "# len(adapted_labs.labels)"
   ]
  },
  {
   "cell_type": "code",
   "execution_count": 4,
   "metadata": {
    "tags": []
   },
   "outputs": [
    {
     "name": "stdout",
     "output_type": "stream",
     "text": [
      "/home/thanos/Documents/Thesis/audio/TheBeatlesShifted_Noise/shifted_-1/09_-_Magical_Mystery_Tour/04_-_Blue_Jay_Way.csv\n",
      "/home/thanos/Documents/Thesis/labels/TheBeatles_shifted/shifted_-1/09_-_Magical_Mystery_Tour/04_-_Blue_Jay_Way_TRNS.csv\n"
     ]
    }
   ],
   "source": [
    "for audio, label in zip(paths_df['wav'], paths_df['labels']):\n",
    "    print(audio)\n",
    "    print(label)\n",
    "    break"
   ]
  },
  {
   "cell_type": "code",
   "execution_count": 14,
   "metadata": {},
   "outputs": [
    {
     "name": "stdout",
     "output_type": "stream",
     "text": [
      "175.88244897959183\n",
      "175.88244897959183\n"
     ]
    }
   ],
   "source": [
    "# import utils.audio_utils as au\n",
    "# y, sr = au.load_wav('/home/thanos/Documents/Thesis/audio/TheBeatles/01_-_Please_Please_Me/01_-_I_Saw_Her_Standing_There.wav', sampling_rate=44100)\n",
    "# duration = librosa.get_duration(y=y, sr=sr)\n",
    "# print(duration)\n",
    "\n",
    "# y, sr = au.load_wav('/home/thanos/Documents/Thesis/audio/TheBeatlesShifted_Noise/shifted_-1/01_-_Please_Please_Me/01_-_I_Saw_Her_Standing_There.wav', sampling_rate=44100)\n",
    "# duration = librosa.get_duration(y=y, sr=sr)\n",
    "# print(duration)"
   ]
  },
  {
   "cell_type": "code",
   "execution_count": 11,
   "metadata": {
    "tags": []
   },
   "outputs": [
    {
     "data": {
      "text/html": [
       "<div>\n",
       "<style scoped>\n",
       "    .dataframe tbody tr th:only-of-type {\n",
       "        vertical-align: middle;\n",
       "    }\n",
       "\n",
       "    .dataframe tbody tr th {\n",
       "        vertical-align: top;\n",
       "    }\n",
       "\n",
       "    .dataframe thead th {\n",
       "        text-align: right;\n",
       "    }\n",
       "</style>\n",
       "<table border=\"1\" class=\"dataframe\">\n",
       "  <thead>\n",
       "    <tr style=\"text-align: right;\">\n",
       "      <th></th>\n",
       "      <th>0</th>\n",
       "      <th>1</th>\n",
       "    </tr>\n",
       "  </thead>\n",
       "  <tbody>\n",
       "    <tr>\n",
       "      <th>0</th>\n",
       "      <td>0.000000</td>\n",
       "      <td>N</td>\n",
       "    </tr>\n",
       "    <tr>\n",
       "      <th>1</th>\n",
       "      <td>0.100009</td>\n",
       "      <td>N</td>\n",
       "    </tr>\n",
       "    <tr>\n",
       "      <th>2</th>\n",
       "      <td>0.200018</td>\n",
       "      <td>N</td>\n",
       "    </tr>\n",
       "    <tr>\n",
       "      <th>3</th>\n",
       "      <td>0.300027</td>\n",
       "      <td>N</td>\n",
       "    </tr>\n",
       "    <tr>\n",
       "      <th>4</th>\n",
       "      <td>0.400037</td>\n",
       "      <td>N</td>\n",
       "    </tr>\n",
       "    <tr>\n",
       "      <th>...</th>\n",
       "      <td>...</td>\n",
       "      <td>...</td>\n",
       "    </tr>\n",
       "    <tr>\n",
       "      <th>2363</th>\n",
       "      <td>236.321596</td>\n",
       "      <td>N</td>\n",
       "    </tr>\n",
       "    <tr>\n",
       "      <th>2364</th>\n",
       "      <td>236.421606</td>\n",
       "      <td>N</td>\n",
       "    </tr>\n",
       "    <tr>\n",
       "      <th>2365</th>\n",
       "      <td>236.521615</td>\n",
       "      <td>N</td>\n",
       "    </tr>\n",
       "    <tr>\n",
       "      <th>2366</th>\n",
       "      <td>236.621624</td>\n",
       "      <td>N</td>\n",
       "    </tr>\n",
       "    <tr>\n",
       "      <th>2367</th>\n",
       "      <td>236.721633</td>\n",
       "      <td>N</td>\n",
       "    </tr>\n",
       "  </tbody>\n",
       "</table>\n",
       "<p>2368 rows × 2 columns</p>\n",
       "</div>"
      ],
      "text/plain": [
       "               0  1\n",
       "0       0.000000  N\n",
       "1       0.100009  N\n",
       "2       0.200018  N\n",
       "3       0.300027  N\n",
       "4       0.400037  N\n",
       "...          ... ..\n",
       "2363  236.321596  N\n",
       "2364  236.421606  N\n",
       "2365  236.521615  N\n",
       "2366  236.621624  N\n",
       "2367  236.721633  N\n",
       "\n",
       "[2368 rows x 2 columns]"
      ]
     },
     "execution_count": 11,
     "metadata": {},
     "output_type": "execute_result"
    }
   ],
   "source": [
    "labels = pd.read_csv(label, header=None, sep=' ')\n",
    "labels"
   ]
  },
  {
   "cell_type": "code",
   "execution_count": null,
   "metadata": {},
   "outputs": [],
   "source": [
    "!pip insta"
   ]
  },
  {
   "cell_type": "code",
   "execution_count": 16,
   "metadata": {
    "tags": []
   },
   "outputs": [
    {
     "ename": "ModuleNotFoundError",
     "evalue": "No module named 'torch'",
     "output_type": "error",
     "traceback": [
      "\u001b[0;31m---------------------------------------------------------------------------\u001b[0m",
      "\u001b[0;31mModuleNotFoundError\u001b[0m                       Traceback (most recent call last)",
      "Cell \u001b[0;32mIn[16], line 1\u001b[0m\n\u001b[0;32m----> 1\u001b[0m \u001b[38;5;28;01mimport\u001b[39;00m \u001b[38;5;21;01mtorch\u001b[39;00m\n\u001b[1;32m      3\u001b[0m torch\u001b[38;5;241m.\u001b[39mcuda\u001b[38;5;241m.\u001b[39mis_available()\n",
      "\u001b[0;31mModuleNotFoundError\u001b[0m: No module named 'torch'"
     ]
    }
   ],
   "source": [
    "import torch\n",
    "\n",
    "torch.cuda.is_available()\n"
   ]
  },
  {
   "cell_type": "code",
   "execution_count": 14,
   "metadata": {
    "tags": []
   },
   "outputs": [
    {
     "data": {
      "text/html": [
       "<div>\n",
       "<style scoped>\n",
       "    .dataframe tbody tr th:only-of-type {\n",
       "        vertical-align: middle;\n",
       "    }\n",
       "\n",
       "    .dataframe tbody tr th {\n",
       "        vertical-align: top;\n",
       "    }\n",
       "\n",
       "    .dataframe thead th {\n",
       "        text-align: right;\n",
       "    }\n",
       "</style>\n",
       "<table border=\"1\" class=\"dataframe\">\n",
       "  <thead>\n",
       "    <tr style=\"text-align: right;\">\n",
       "      <th></th>\n",
       "      <th>0</th>\n",
       "    </tr>\n",
       "  </thead>\n",
       "  <tbody>\n",
       "    <tr>\n",
       "      <th>0</th>\n",
       "      <td>7.285249233245849609e-01,6.283323764801025391e...</td>\n",
       "    </tr>\n",
       "    <tr>\n",
       "      <th>1</th>\n",
       "      <td>9.207605123519897461e-01,7.775761485099792480e...</td>\n",
       "    </tr>\n",
       "    <tr>\n",
       "      <th>2</th>\n",
       "      <td>9.042481780052185059e-01,1.000000000000000000e...</td>\n",
       "    </tr>\n",
       "    <tr>\n",
       "      <th>3</th>\n",
       "      <td>8.505315184593200684e-01,7.612113356590270996e...</td>\n",
       "    </tr>\n",
       "    <tr>\n",
       "      <th>4</th>\n",
       "      <td>7.059997916221618652e-01,9.091048836708068848e...</td>\n",
       "    </tr>\n",
       "    <tr>\n",
       "      <th>...</th>\n",
       "      <td>...</td>\n",
       "    </tr>\n",
       "    <tr>\n",
       "      <th>2363</th>\n",
       "      <td>5.655665397644042969e-01,6.728605628013610840e...</td>\n",
       "    </tr>\n",
       "    <tr>\n",
       "      <th>2364</th>\n",
       "      <td>9.218359589576721191e-01,1.000000000000000000e...</td>\n",
       "    </tr>\n",
       "    <tr>\n",
       "      <th>2365</th>\n",
       "      <td>6.060883998870849609e-01,7.934543490409851074e...</td>\n",
       "    </tr>\n",
       "    <tr>\n",
       "      <th>2366</th>\n",
       "      <td>9.749596118927001953e-01,8.163554668426513672e...</td>\n",
       "    </tr>\n",
       "    <tr>\n",
       "      <th>2367</th>\n",
       "      <td>8.462341427803039551e-01,9.265576601028442383e...</td>\n",
       "    </tr>\n",
       "  </tbody>\n",
       "</table>\n",
       "<p>2368 rows × 1 columns</p>\n",
       "</div>"
      ],
      "text/plain": [
       "                                                      0\n",
       "0     7.285249233245849609e-01,6.283323764801025391e...\n",
       "1     9.207605123519897461e-01,7.775761485099792480e...\n",
       "2     9.042481780052185059e-01,1.000000000000000000e...\n",
       "3     8.505315184593200684e-01,7.612113356590270996e...\n",
       "4     7.059997916221618652e-01,9.091048836708068848e...\n",
       "...                                                 ...\n",
       "2363  5.655665397644042969e-01,6.728605628013610840e...\n",
       "2364  9.218359589576721191e-01,1.000000000000000000e...\n",
       "2365  6.060883998870849609e-01,7.934543490409851074e...\n",
       "2366  9.749596118927001953e-01,8.163554668426513672e...\n",
       "2367  8.462341427803039551e-01,9.265576601028442383e...\n",
       "\n",
       "[2368 rows x 1 columns]"
      ]
     },
     "execution_count": 14,
     "metadata": {},
     "output_type": "execute_result"
    }
   ],
   "source": [
    "track = pd.read_csv(audio, header=None, sep=' ')\n",
    "track.ilco[0]"
   ]
  }
 ],
 "metadata": {
  "kernelspec": {
   "display_name": "Python 3 (ipykernel)",
   "language": "python",
   "name": "python3"
  },
  "language_info": {
   "codemirror_mode": {
    "name": "ipython",
    "version": 3
   },
   "file_extension": ".py",
   "mimetype": "text/x-python",
   "name": "python",
   "nbconvert_exporter": "python",
   "pygments_lexer": "ipython3",
   "version": "3.11.5"
  }
 },
 "nbformat": 4,
 "nbformat_minor": 4
}
